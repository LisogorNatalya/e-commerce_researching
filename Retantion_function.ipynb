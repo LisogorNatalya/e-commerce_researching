{
 "cells": [
  {
   "cell_type": "code",
   "execution_count": 2,
   "metadata": {},
   "outputs": [],
   "source": [
    "import pandas as pd\n",
    "import seaborn as sns\n",
    "import matplotlib.pyplot as plt\n",
    "%matplotlib inline\n",
    "from datetime import date, timedelta\n",
    "import datetime as dt\n",
    "import warnings"
   ]
  },
  {
   "cell_type": "markdown",
   "metadata": {},
   "source": [
    "### Задание 1. Написать функцию для подсчета показателя retention в днях"
   ]
  },
  {
   "cell_type": "markdown",
   "metadata": {},
   "source": [
    "Выгрузим наши данные и рассмотрим их подробнее. Проверим количество уникальных пользователей, типы данных, наличие пропущенных значений"
   ]
  },
  {
   "cell_type": "code",
   "execution_count": 3,
   "metadata": {},
   "outputs": [],
   "source": [
    "reg = pd.read_csv('/mnt/HC_Volume_18315164/home-jupyter/jupyter-n-lisogor/shared/problem1-reg_data.csv', sep = ';')\n",
    "auth = pd.read_csv('/mnt/HC_Volume_18315164/home-jupyter/jupyter-n-lisogor/shared/problem1-auth_data.csv', sep = ';')"
   ]
  },
  {
   "cell_type": "code",
   "execution_count": 4,
   "metadata": {},
   "outputs": [
    {
     "data": {
      "text/html": [
       "<div>\n",
       "<style scoped>\n",
       "    .dataframe tbody tr th:only-of-type {\n",
       "        vertical-align: middle;\n",
       "    }\n",
       "\n",
       "    .dataframe tbody tr th {\n",
       "        vertical-align: top;\n",
       "    }\n",
       "\n",
       "    .dataframe thead th {\n",
       "        text-align: right;\n",
       "    }\n",
       "</style>\n",
       "<table border=\"1\" class=\"dataframe\">\n",
       "  <thead>\n",
       "    <tr style=\"text-align: right;\">\n",
       "      <th></th>\n",
       "      <th>reg_ts</th>\n",
       "      <th>uid</th>\n",
       "    </tr>\n",
       "  </thead>\n",
       "  <tbody>\n",
       "    <tr>\n",
       "      <th>0</th>\n",
       "      <td>911382223</td>\n",
       "      <td>1</td>\n",
       "    </tr>\n",
       "    <tr>\n",
       "      <th>1</th>\n",
       "      <td>932683089</td>\n",
       "      <td>2</td>\n",
       "    </tr>\n",
       "    <tr>\n",
       "      <th>2</th>\n",
       "      <td>947802447</td>\n",
       "      <td>3</td>\n",
       "    </tr>\n",
       "    <tr>\n",
       "      <th>3</th>\n",
       "      <td>959523541</td>\n",
       "      <td>4</td>\n",
       "    </tr>\n",
       "    <tr>\n",
       "      <th>4</th>\n",
       "      <td>969103313</td>\n",
       "      <td>5</td>\n",
       "    </tr>\n",
       "  </tbody>\n",
       "</table>\n",
       "</div>"
      ],
      "text/plain": [
       "      reg_ts  uid\n",
       "0  911382223    1\n",
       "1  932683089    2\n",
       "2  947802447    3\n",
       "3  959523541    4\n",
       "4  969103313    5"
      ]
     },
     "execution_count": 4,
     "metadata": {},
     "output_type": "execute_result"
    }
   ],
   "source": [
    "reg.head()"
   ]
  },
  {
   "cell_type": "code",
   "execution_count": 5,
   "metadata": {},
   "outputs": [
    {
     "name": "stdout",
     "output_type": "stream",
     "text": [
      "<class 'pandas.core.frame.DataFrame'>\n",
      "RangeIndex: 1000000 entries, 0 to 999999\n",
      "Data columns (total 2 columns):\n",
      " #   Column  Non-Null Count    Dtype\n",
      "---  ------  --------------    -----\n",
      " 0   reg_ts  1000000 non-null  int64\n",
      " 1   uid     1000000 non-null  int64\n",
      "dtypes: int64(2)\n",
      "memory usage: 15.3 MB\n"
     ]
    }
   ],
   "source": [
    "reg.info()"
   ]
  },
  {
   "cell_type": "code",
   "execution_count": 6,
   "metadata": {},
   "outputs": [
    {
     "data": {
      "text/plain": [
       "reg_ts    0\n",
       "uid       0\n",
       "dtype: int64"
      ]
     },
     "execution_count": 6,
     "metadata": {},
     "output_type": "execute_result"
    }
   ],
   "source": [
    "reg.isna().sum()"
   ]
  },
  {
   "cell_type": "code",
   "execution_count": 7,
   "metadata": {},
   "outputs": [
    {
     "data": {
      "text/plain": [
       "1000000"
      ]
     },
     "execution_count": 7,
     "metadata": {},
     "output_type": "execute_result"
    }
   ],
   "source": [
    "reg['uid'].nunique()"
   ]
  },
  {
   "cell_type": "code",
   "execution_count": 8,
   "metadata": {},
   "outputs": [
    {
     "data": {
      "text/html": [
       "<div>\n",
       "<style scoped>\n",
       "    .dataframe tbody tr th:only-of-type {\n",
       "        vertical-align: middle;\n",
       "    }\n",
       "\n",
       "    .dataframe tbody tr th {\n",
       "        vertical-align: top;\n",
       "    }\n",
       "\n",
       "    .dataframe thead th {\n",
       "        text-align: right;\n",
       "    }\n",
       "</style>\n",
       "<table border=\"1\" class=\"dataframe\">\n",
       "  <thead>\n",
       "    <tr style=\"text-align: right;\">\n",
       "      <th></th>\n",
       "      <th>auth_ts</th>\n",
       "      <th>uid</th>\n",
       "    </tr>\n",
       "  </thead>\n",
       "  <tbody>\n",
       "    <tr>\n",
       "      <th>0</th>\n",
       "      <td>911382223</td>\n",
       "      <td>1</td>\n",
       "    </tr>\n",
       "    <tr>\n",
       "      <th>1</th>\n",
       "      <td>932683089</td>\n",
       "      <td>2</td>\n",
       "    </tr>\n",
       "    <tr>\n",
       "      <th>2</th>\n",
       "      <td>932921206</td>\n",
       "      <td>2</td>\n",
       "    </tr>\n",
       "    <tr>\n",
       "      <th>3</th>\n",
       "      <td>933393015</td>\n",
       "      <td>2</td>\n",
       "    </tr>\n",
       "    <tr>\n",
       "      <th>4</th>\n",
       "      <td>933875379</td>\n",
       "      <td>2</td>\n",
       "    </tr>\n",
       "  </tbody>\n",
       "</table>\n",
       "</div>"
      ],
      "text/plain": [
       "     auth_ts  uid\n",
       "0  911382223    1\n",
       "1  932683089    2\n",
       "2  932921206    2\n",
       "3  933393015    2\n",
       "4  933875379    2"
      ]
     },
     "execution_count": 8,
     "metadata": {},
     "output_type": "execute_result"
    }
   ],
   "source": [
    "auth.head()"
   ]
  },
  {
   "cell_type": "code",
   "execution_count": 9,
   "metadata": {},
   "outputs": [
    {
     "name": "stdout",
     "output_type": "stream",
     "text": [
      "<class 'pandas.core.frame.DataFrame'>\n",
      "RangeIndex: 9601013 entries, 0 to 9601012\n",
      "Data columns (total 2 columns):\n",
      " #   Column   Dtype\n",
      "---  ------   -----\n",
      " 0   auth_ts  int64\n",
      " 1   uid      int64\n",
      "dtypes: int64(2)\n",
      "memory usage: 146.5 MB\n"
     ]
    }
   ],
   "source": [
    "auth.info()"
   ]
  },
  {
   "cell_type": "code",
   "execution_count": 10,
   "metadata": {},
   "outputs": [
    {
     "data": {
      "text/plain": [
       "auth_ts    0\n",
       "uid        0\n",
       "dtype: int64"
      ]
     },
     "execution_count": 10,
     "metadata": {},
     "output_type": "execute_result"
    }
   ],
   "source": [
    "auth.isna().sum()"
   ]
  },
  {
   "cell_type": "code",
   "execution_count": 11,
   "metadata": {},
   "outputs": [
    {
     "data": {
      "text/plain": [
       "1000000"
      ]
     },
     "execution_count": 11,
     "metadata": {},
     "output_type": "execute_result"
    }
   ],
   "source": [
    "auth['uid'].nunique()"
   ]
  },
  {
   "cell_type": "markdown",
   "metadata": {},
   "source": [
    "Приведем типы данных к необходимому формату и посмотрим, за какой период у нас данные. Сразу видим, что период у нас большой, поэтому есть смысл в функции указывать начальную и конечную даты, за которые мы будем анализировать retantion"
   ]
  },
  {
   "cell_type": "code",
   "execution_count": 12,
   "metadata": {},
   "outputs": [],
   "source": [
    "reg.reg_ts = pd.to_datetime(reg.reg_ts, unit='s')\n",
    "auth.auth_ts = pd.to_datetime(auth.auth_ts, unit='s')"
   ]
  },
  {
   "cell_type": "code",
   "execution_count": 13,
   "metadata": {},
   "outputs": [
    {
     "name": "stdout",
     "output_type": "stream",
     "text": [
      "Дата первой регистрации 1998-11-18 09:43:43\n",
      "Дата последней регистрации 2020-09-23 15:17:24\n"
     ]
    }
   ],
   "source": [
    "print(f\"Дата первой регистрации {reg.reg_ts.min()}\")\n",
    "print(f\"Дата последней регистрации {reg.reg_ts.max()}\")"
   ]
  },
  {
   "cell_type": "code",
   "execution_count": 14,
   "metadata": {},
   "outputs": [
    {
     "name": "stdout",
     "output_type": "stream",
     "text": [
      "Дата первой игровой сессии 1998-11-18 09:43:43\n",
      "Дата последней игровой сессии 2020-09-23 15:17:24\n"
     ]
    }
   ],
   "source": [
    "print(f\"Дата первой игровой сессии {auth.auth_ts.min()}\")\n",
    "print(f\"Дата последней игровой сессии {auth.auth_ts.max()}\")"
   ]
  },
  {
   "cell_type": "markdown",
   "metadata": {},
   "source": [
    "###### Напишем функцию, которая будет показывать нам retention за выбранные дни"
   ]
  },
  {
   "cell_type": "code",
   "execution_count": 15,
   "metadata": {},
   "outputs": [],
   "source": [
    "def retention (start_date, end_date):\n",
    "    #Установим начальную и конечную дату, за которые мы будем смотреть данные\n",
    "    start_date = pd.to_datetime(start_date, utc=False)\n",
    "    end_date = pd.to_datetime(end_date, utc=False)\n",
    "    \n",
    "    #Приведем данные о времени регистрации и о времени захода пользователя в игру к типу datetime в днях\n",
    "    reg['reg_ts'] = pd.to_datetime(reg['reg_ts']).dt.date\n",
    "    auth['auth_ts'] = pd.to_datetime(auth['auth_ts']).dt.date\n",
    "    \n",
    "    #Выберем только те данные, которые соответствуют выбранным дням\n",
    "    reg_dates = reg.query('reg_ts >= @start_date')\n",
    "    auth_dates = auth.query('auth_ts <= @end_date')\n",
    "    \n",
    "    # объединяем наши данные с временем регистрации и данные о времени захода пользователей в игру\n",
    "    users_data = auth_dates.merge(reg_dates, on = 'uid', how = 'left')\n",
    "    \n",
    "    #Добавим колонку, которая посчитает, сколько дней прошло с момента регистрации до захода пользователя в игру\n",
    "    users_data['time_delta'] = (users_data['auth_ts'] - users_data['reg_ts']).dt.days\n",
    "    \n",
    "    #Объединим наших пользователей по дням\n",
    "    retention_day = users_data\\\n",
    "    .groupby(['reg_ts', 'time_delta'], as_index = False)\\\n",
    "    .agg({'uid' : 'nunique'})\\\n",
    "    .rename(columns={'reg_ts':'cohort', 'time_delta':'days_from_registration', 'uid':'users'})\\\n",
    "    .pivot(index = 'cohort', columns = 'days_from_registration', values = 'users')\n",
    "    \n",
    "    retention_day=(retention_day.div(retention_day[0], axis='index'))\n",
    "    retention_day = retention_day.drop([0],axis = 1)\n",
    "    \n",
    "    #Оформим визуальное представление\n",
    "    retention = (retention_day\n",
    "            .style\n",
    "            .background_gradient(cmap='Blues')\n",
    "            .highlight_null('white')\n",
    "            .format('{:.2%}', na_rep=' '))\n",
    "    \n",
    "\n",
    "    return retention"
   ]
  },
  {
   "cell_type": "markdown",
   "metadata": {},
   "source": [
    "###### Проверим работу функции на периоде в 10 дней"
   ]
  },
  {
   "cell_type": "code",
   "execution_count": 16,
   "metadata": {},
   "outputs": [
    {
     "data": {
      "text/html": [
       "<style  type=\"text/css\" >\n",
       "#T_68d5f03c_e1af_11ed_bdbb_96000040dfb6row0_col0{\n",
       "            background-color:  #c4daee;\n",
       "            color:  #000000;\n",
       "        }#T_68d5f03c_e1af_11ed_bdbb_96000040dfb6row0_col1,#T_68d5f03c_e1af_11ed_bdbb_96000040dfb6row0_col2,#T_68d5f03c_e1af_11ed_bdbb_96000040dfb6row0_col7,#T_68d5f03c_e1af_11ed_bdbb_96000040dfb6row0_col8,#T_68d5f03c_e1af_11ed_bdbb_96000040dfb6row1_col4,#T_68d5f03c_e1af_11ed_bdbb_96000040dfb6row1_col5,#T_68d5f03c_e1af_11ed_bdbb_96000040dfb6row1_col6,#T_68d5f03c_e1af_11ed_bdbb_96000040dfb6row2_col2,#T_68d5f03c_e1af_11ed_bdbb_96000040dfb6row3_col0,#T_68d5f03c_e1af_11ed_bdbb_96000040dfb6row3_col3,#T_68d5f03c_e1af_11ed_bdbb_96000040dfb6row5_col3,#T_68d5f03c_e1af_11ed_bdbb_96000040dfb6row6_col0,#T_68d5f03c_e1af_11ed_bdbb_96000040dfb6row7_col0,#T_68d5f03c_e1af_11ed_bdbb_96000040dfb6row8_col0{\n",
       "            background-color:  #f7fbff;\n",
       "            color:  #000000;\n",
       "        }#T_68d5f03c_e1af_11ed_bdbb_96000040dfb6row0_col3,#T_68d5f03c_e1af_11ed_bdbb_96000040dfb6row4_col3{\n",
       "            background-color:  #bad6eb;\n",
       "            color:  #000000;\n",
       "        }#T_68d5f03c_e1af_11ed_bdbb_96000040dfb6row0_col4{\n",
       "            background-color:  #084d96;\n",
       "            color:  #f1f1f1;\n",
       "        }#T_68d5f03c_e1af_11ed_bdbb_96000040dfb6row0_col5{\n",
       "            background-color:  #65aad4;\n",
       "            color:  #000000;\n",
       "        }#T_68d5f03c_e1af_11ed_bdbb_96000040dfb6row0_col6,#T_68d5f03c_e1af_11ed_bdbb_96000040dfb6row1_col0,#T_68d5f03c_e1af_11ed_bdbb_96000040dfb6row1_col7,#T_68d5f03c_e1af_11ed_bdbb_96000040dfb6row2_col3,#T_68d5f03c_e1af_11ed_bdbb_96000040dfb6row3_col5,#T_68d5f03c_e1af_11ed_bdbb_96000040dfb6row4_col2,#T_68d5f03c_e1af_11ed_bdbb_96000040dfb6row4_col4,#T_68d5f03c_e1af_11ed_bdbb_96000040dfb6row7_col1{\n",
       "            background-color:  #08306b;\n",
       "            color:  #f1f1f1;\n",
       "        }#T_68d5f03c_e1af_11ed_bdbb_96000040dfb6row1_col1{\n",
       "            background-color:  #ccdff1;\n",
       "            color:  #000000;\n",
       "        }#T_68d5f03c_e1af_11ed_bdbb_96000040dfb6row1_col2,#T_68d5f03c_e1af_11ed_bdbb_96000040dfb6row6_col2{\n",
       "            background-color:  #c8dcf0;\n",
       "            color:  #000000;\n",
       "        }#T_68d5f03c_e1af_11ed_bdbb_96000040dfb6row1_col3{\n",
       "            background-color:  #dbe9f6;\n",
       "            color:  #000000;\n",
       "        }#T_68d5f03c_e1af_11ed_bdbb_96000040dfb6row1_col8,#T_68d5f03c_e1af_11ed_bdbb_96000040dfb6row2_col8,#T_68d5f03c_e1af_11ed_bdbb_96000040dfb6row3_col8,#T_68d5f03c_e1af_11ed_bdbb_96000040dfb6row4_col8,#T_68d5f03c_e1af_11ed_bdbb_96000040dfb6row5_col8,#T_68d5f03c_e1af_11ed_bdbb_96000040dfb6row6_col8,#T_68d5f03c_e1af_11ed_bdbb_96000040dfb6row7_col8,#T_68d5f03c_e1af_11ed_bdbb_96000040dfb6row8_col8,#T_68d5f03c_e1af_11ed_bdbb_96000040dfb6row9_col8{\n",
       "            background-color:  #f7fbff;\n",
       "            color:  #000000;\n",
       "            background-color:  white;\n",
       "        }#T_68d5f03c_e1af_11ed_bdbb_96000040dfb6row2_col0,#T_68d5f03c_e1af_11ed_bdbb_96000040dfb6row2_col7,#T_68d5f03c_e1af_11ed_bdbb_96000040dfb6row3_col6,#T_68d5f03c_e1af_11ed_bdbb_96000040dfb6row3_col7,#T_68d5f03c_e1af_11ed_bdbb_96000040dfb6row4_col5,#T_68d5f03c_e1af_11ed_bdbb_96000040dfb6row4_col6,#T_68d5f03c_e1af_11ed_bdbb_96000040dfb6row4_col7,#T_68d5f03c_e1af_11ed_bdbb_96000040dfb6row5_col4,#T_68d5f03c_e1af_11ed_bdbb_96000040dfb6row5_col5,#T_68d5f03c_e1af_11ed_bdbb_96000040dfb6row5_col6,#T_68d5f03c_e1af_11ed_bdbb_96000040dfb6row5_col7,#T_68d5f03c_e1af_11ed_bdbb_96000040dfb6row6_col3,#T_68d5f03c_e1af_11ed_bdbb_96000040dfb6row6_col4,#T_68d5f03c_e1af_11ed_bdbb_96000040dfb6row6_col5,#T_68d5f03c_e1af_11ed_bdbb_96000040dfb6row6_col6,#T_68d5f03c_e1af_11ed_bdbb_96000040dfb6row6_col7,#T_68d5f03c_e1af_11ed_bdbb_96000040dfb6row7_col2,#T_68d5f03c_e1af_11ed_bdbb_96000040dfb6row7_col3,#T_68d5f03c_e1af_11ed_bdbb_96000040dfb6row7_col4,#T_68d5f03c_e1af_11ed_bdbb_96000040dfb6row7_col5,#T_68d5f03c_e1af_11ed_bdbb_96000040dfb6row7_col6,#T_68d5f03c_e1af_11ed_bdbb_96000040dfb6row7_col7,#T_68d5f03c_e1af_11ed_bdbb_96000040dfb6row8_col1,#T_68d5f03c_e1af_11ed_bdbb_96000040dfb6row8_col2,#T_68d5f03c_e1af_11ed_bdbb_96000040dfb6row8_col3,#T_68d5f03c_e1af_11ed_bdbb_96000040dfb6row8_col4,#T_68d5f03c_e1af_11ed_bdbb_96000040dfb6row8_col5,#T_68d5f03c_e1af_11ed_bdbb_96000040dfb6row8_col6,#T_68d5f03c_e1af_11ed_bdbb_96000040dfb6row8_col7,#T_68d5f03c_e1af_11ed_bdbb_96000040dfb6row9_col0,#T_68d5f03c_e1af_11ed_bdbb_96000040dfb6row9_col1,#T_68d5f03c_e1af_11ed_bdbb_96000040dfb6row9_col2,#T_68d5f03c_e1af_11ed_bdbb_96000040dfb6row9_col3,#T_68d5f03c_e1af_11ed_bdbb_96000040dfb6row9_col4,#T_68d5f03c_e1af_11ed_bdbb_96000040dfb6row9_col5,#T_68d5f03c_e1af_11ed_bdbb_96000040dfb6row9_col6,#T_68d5f03c_e1af_11ed_bdbb_96000040dfb6row9_col7{\n",
       "            background-color:  #000000;\n",
       "            color:  #f1f1f1;\n",
       "            background-color:  white;\n",
       "        }#T_68d5f03c_e1af_11ed_bdbb_96000040dfb6row2_col1{\n",
       "            background-color:  #aacfe5;\n",
       "            color:  #000000;\n",
       "        }#T_68d5f03c_e1af_11ed_bdbb_96000040dfb6row2_col4{\n",
       "            background-color:  #3787c0;\n",
       "            color:  #000000;\n",
       "        }#T_68d5f03c_e1af_11ed_bdbb_96000040dfb6row2_col5{\n",
       "            background-color:  #c2d9ee;\n",
       "            color:  #000000;\n",
       "        }#T_68d5f03c_e1af_11ed_bdbb_96000040dfb6row2_col6{\n",
       "            background-color:  #1663aa;\n",
       "            color:  #f1f1f1;\n",
       "        }#T_68d5f03c_e1af_11ed_bdbb_96000040dfb6row3_col1,#T_68d5f03c_e1af_11ed_bdbb_96000040dfb6row3_col4{\n",
       "            background-color:  #e1edf8;\n",
       "            color:  #000000;\n",
       "        }#T_68d5f03c_e1af_11ed_bdbb_96000040dfb6row3_col2{\n",
       "            background-color:  #71b1d7;\n",
       "            color:  #000000;\n",
       "        }#T_68d5f03c_e1af_11ed_bdbb_96000040dfb6row4_col0{\n",
       "            background-color:  #f6faff;\n",
       "            color:  #000000;\n",
       "        }#T_68d5f03c_e1af_11ed_bdbb_96000040dfb6row4_col1{\n",
       "            background-color:  #57a0ce;\n",
       "            color:  #000000;\n",
       "        }#T_68d5f03c_e1af_11ed_bdbb_96000040dfb6row5_col0{\n",
       "            background-color:  #c6dbef;\n",
       "            color:  #000000;\n",
       "        }#T_68d5f03c_e1af_11ed_bdbb_96000040dfb6row5_col1{\n",
       "            background-color:  #abd0e6;\n",
       "            color:  #000000;\n",
       "        }#T_68d5f03c_e1af_11ed_bdbb_96000040dfb6row5_col2{\n",
       "            background-color:  #2474b7;\n",
       "            color:  #f1f1f1;\n",
       "        }#T_68d5f03c_e1af_11ed_bdbb_96000040dfb6row6_col1{\n",
       "            background-color:  #82bbdb;\n",
       "            color:  #000000;\n",
       "        }</style><table id=\"T_68d5f03c_e1af_11ed_bdbb_96000040dfb6\" ><thead>    <tr>        <th class=\"index_name level0\" >days_from_registration</th>        <th class=\"col_heading level0 col0\" >1.0</th>        <th class=\"col_heading level0 col1\" >2.0</th>        <th class=\"col_heading level0 col2\" >3.0</th>        <th class=\"col_heading level0 col3\" >4.0</th>        <th class=\"col_heading level0 col4\" >5.0</th>        <th class=\"col_heading level0 col5\" >6.0</th>        <th class=\"col_heading level0 col6\" >7.0</th>        <th class=\"col_heading level0 col7\" >8.0</th>        <th class=\"col_heading level0 col8\" >9.0</th>    </tr>    <tr>        <th class=\"index_name level0\" >cohort</th>        <th class=\"blank\" ></th>        <th class=\"blank\" ></th>        <th class=\"blank\" ></th>        <th class=\"blank\" ></th>        <th class=\"blank\" ></th>        <th class=\"blank\" ></th>        <th class=\"blank\" ></th>        <th class=\"blank\" ></th>        <th class=\"blank\" ></th>    </tr></thead><tbody>\n",
       "                <tr>\n",
       "                        <th id=\"T_68d5f03c_e1af_11ed_bdbb_96000040dfb6level0_row0\" class=\"row_heading level0 row0\" >2016-01-01</th>\n",
       "                        <td id=\"T_68d5f03c_e1af_11ed_bdbb_96000040dfb6row0_col0\" class=\"data row0 col0\" >2.08%</td>\n",
       "                        <td id=\"T_68d5f03c_e1af_11ed_bdbb_96000040dfb6row0_col1\" class=\"data row0 col1\" >1.04%</td>\n",
       "                        <td id=\"T_68d5f03c_e1af_11ed_bdbb_96000040dfb6row0_col2\" class=\"data row0 col2\" >3.12%</td>\n",
       "                        <td id=\"T_68d5f03c_e1af_11ed_bdbb_96000040dfb6row0_col3\" class=\"data row0 col3\" >5.21%</td>\n",
       "                        <td id=\"T_68d5f03c_e1af_11ed_bdbb_96000040dfb6row0_col4\" class=\"data row0 col4\" >11.46%</td>\n",
       "                        <td id=\"T_68d5f03c_e1af_11ed_bdbb_96000040dfb6row0_col5\" class=\"data row0 col5\" >6.25%</td>\n",
       "                        <td id=\"T_68d5f03c_e1af_11ed_bdbb_96000040dfb6row0_col6\" class=\"data row0 col6\" >11.46%</td>\n",
       "                        <td id=\"T_68d5f03c_e1af_11ed_bdbb_96000040dfb6row0_col7\" class=\"data row0 col7\" >2.08%</td>\n",
       "                        <td id=\"T_68d5f03c_e1af_11ed_bdbb_96000040dfb6row0_col8\" class=\"data row0 col8\" >5.21%</td>\n",
       "            </tr>\n",
       "            <tr>\n",
       "                        <th id=\"T_68d5f03c_e1af_11ed_bdbb_96000040dfb6level0_row1\" class=\"row_heading level0 row1\" >2016-01-02</th>\n",
       "                        <td id=\"T_68d5f03c_e1af_11ed_bdbb_96000040dfb6row1_col0\" class=\"data row1 col0\" >5.15%</td>\n",
       "                        <td id=\"T_68d5f03c_e1af_11ed_bdbb_96000040dfb6row1_col1\" class=\"data row1 col1\" >3.09%</td>\n",
       "                        <td id=\"T_68d5f03c_e1af_11ed_bdbb_96000040dfb6row1_col2\" class=\"data row1 col2\" >4.12%</td>\n",
       "                        <td id=\"T_68d5f03c_e1af_11ed_bdbb_96000040dfb6row1_col3\" class=\"data row1 col3\" >4.12%</td>\n",
       "                        <td id=\"T_68d5f03c_e1af_11ed_bdbb_96000040dfb6row1_col4\" class=\"data row1 col4\" >3.09%</td>\n",
       "                        <td id=\"T_68d5f03c_e1af_11ed_bdbb_96000040dfb6row1_col5\" class=\"data row1 col5\" >4.12%</td>\n",
       "                        <td id=\"T_68d5f03c_e1af_11ed_bdbb_96000040dfb6row1_col6\" class=\"data row1 col6\" >6.19%</td>\n",
       "                        <td id=\"T_68d5f03c_e1af_11ed_bdbb_96000040dfb6row1_col7\" class=\"data row1 col7\" >3.09%</td>\n",
       "                        <td id=\"T_68d5f03c_e1af_11ed_bdbb_96000040dfb6row1_col8\" class=\"data row1 col8\" > </td>\n",
       "            </tr>\n",
       "            <tr>\n",
       "                        <th id=\"T_68d5f03c_e1af_11ed_bdbb_96000040dfb6level0_row2\" class=\"row_heading level0 row2\" >2016-01-03</th>\n",
       "                        <td id=\"T_68d5f03c_e1af_11ed_bdbb_96000040dfb6row2_col0\" class=\"data row2 col0\" > </td>\n",
       "                        <td id=\"T_68d5f03c_e1af_11ed_bdbb_96000040dfb6row2_col1\" class=\"data row2 col1\" >4.17%</td>\n",
       "                        <td id=\"T_68d5f03c_e1af_11ed_bdbb_96000040dfb6row2_col2\" class=\"data row2 col2\" >3.12%</td>\n",
       "                        <td id=\"T_68d5f03c_e1af_11ed_bdbb_96000040dfb6row2_col3\" class=\"data row2 col3\" >10.42%</td>\n",
       "                        <td id=\"T_68d5f03c_e1af_11ed_bdbb_96000040dfb6row2_col4\" class=\"data row2 col4\" >9.38%</td>\n",
       "                        <td id=\"T_68d5f03c_e1af_11ed_bdbb_96000040dfb6row2_col5\" class=\"data row2 col5\" >5.21%</td>\n",
       "                        <td id=\"T_68d5f03c_e1af_11ed_bdbb_96000040dfb6row2_col6\" class=\"data row2 col6\" >10.42%</td>\n",
       "                        <td id=\"T_68d5f03c_e1af_11ed_bdbb_96000040dfb6row2_col7\" class=\"data row2 col7\" > </td>\n",
       "                        <td id=\"T_68d5f03c_e1af_11ed_bdbb_96000040dfb6row2_col8\" class=\"data row2 col8\" > </td>\n",
       "            </tr>\n",
       "            <tr>\n",
       "                        <th id=\"T_68d5f03c_e1af_11ed_bdbb_96000040dfb6level0_row3\" class=\"row_heading level0 row3\" >2016-01-04</th>\n",
       "                        <td id=\"T_68d5f03c_e1af_11ed_bdbb_96000040dfb6row3_col0\" class=\"data row3 col0\" >1.03%</td>\n",
       "                        <td id=\"T_68d5f03c_e1af_11ed_bdbb_96000040dfb6row3_col1\" class=\"data row3 col1\" >2.06%</td>\n",
       "                        <td id=\"T_68d5f03c_e1af_11ed_bdbb_96000040dfb6row3_col2\" class=\"data row3 col2\" >5.15%</td>\n",
       "                        <td id=\"T_68d5f03c_e1af_11ed_bdbb_96000040dfb6row3_col3\" class=\"data row3 col3\" >3.09%</td>\n",
       "                        <td id=\"T_68d5f03c_e1af_11ed_bdbb_96000040dfb6row3_col4\" class=\"data row3 col4\" >4.12%</td>\n",
       "                        <td id=\"T_68d5f03c_e1af_11ed_bdbb_96000040dfb6row3_col5\" class=\"data row3 col5\" >8.25%</td>\n",
       "                        <td id=\"T_68d5f03c_e1af_11ed_bdbb_96000040dfb6row3_col6\" class=\"data row3 col6\" > </td>\n",
       "                        <td id=\"T_68d5f03c_e1af_11ed_bdbb_96000040dfb6row3_col7\" class=\"data row3 col7\" > </td>\n",
       "                        <td id=\"T_68d5f03c_e1af_11ed_bdbb_96000040dfb6row3_col8\" class=\"data row3 col8\" > </td>\n",
       "            </tr>\n",
       "            <tr>\n",
       "                        <th id=\"T_68d5f03c_e1af_11ed_bdbb_96000040dfb6level0_row4\" class=\"row_heading level0 row4\" >2016-01-05</th>\n",
       "                        <td id=\"T_68d5f03c_e1af_11ed_bdbb_96000040dfb6row4_col0\" class=\"data row4 col0\" >1.04%</td>\n",
       "                        <td id=\"T_68d5f03c_e1af_11ed_bdbb_96000040dfb6row4_col1\" class=\"data row4 col1\" >6.25%</td>\n",
       "                        <td id=\"T_68d5f03c_e1af_11ed_bdbb_96000040dfb6row4_col2\" class=\"data row4 col2\" >7.29%</td>\n",
       "                        <td id=\"T_68d5f03c_e1af_11ed_bdbb_96000040dfb6row4_col3\" class=\"data row4 col3\" >5.21%</td>\n",
       "                        <td id=\"T_68d5f03c_e1af_11ed_bdbb_96000040dfb6row4_col4\" class=\"data row4 col4\" >12.50%</td>\n",
       "                        <td id=\"T_68d5f03c_e1af_11ed_bdbb_96000040dfb6row4_col5\" class=\"data row4 col5\" > </td>\n",
       "                        <td id=\"T_68d5f03c_e1af_11ed_bdbb_96000040dfb6row4_col6\" class=\"data row4 col6\" > </td>\n",
       "                        <td id=\"T_68d5f03c_e1af_11ed_bdbb_96000040dfb6row4_col7\" class=\"data row4 col7\" > </td>\n",
       "                        <td id=\"T_68d5f03c_e1af_11ed_bdbb_96000040dfb6row4_col8\" class=\"data row4 col8\" > </td>\n",
       "            </tr>\n",
       "            <tr>\n",
       "                        <th id=\"T_68d5f03c_e1af_11ed_bdbb_96000040dfb6level0_row5\" class=\"row_heading level0 row5\" >2016-01-06</th>\n",
       "                        <td id=\"T_68d5f03c_e1af_11ed_bdbb_96000040dfb6row5_col0\" class=\"data row5 col0\" >2.06%</td>\n",
       "                        <td id=\"T_68d5f03c_e1af_11ed_bdbb_96000040dfb6row5_col1\" class=\"data row5 col1\" >4.12%</td>\n",
       "                        <td id=\"T_68d5f03c_e1af_11ed_bdbb_96000040dfb6row5_col2\" class=\"data row5 col2\" >6.19%</td>\n",
       "                        <td id=\"T_68d5f03c_e1af_11ed_bdbb_96000040dfb6row5_col3\" class=\"data row5 col3\" >3.09%</td>\n",
       "                        <td id=\"T_68d5f03c_e1af_11ed_bdbb_96000040dfb6row5_col4\" class=\"data row5 col4\" > </td>\n",
       "                        <td id=\"T_68d5f03c_e1af_11ed_bdbb_96000040dfb6row5_col5\" class=\"data row5 col5\" > </td>\n",
       "                        <td id=\"T_68d5f03c_e1af_11ed_bdbb_96000040dfb6row5_col6\" class=\"data row5 col6\" > </td>\n",
       "                        <td id=\"T_68d5f03c_e1af_11ed_bdbb_96000040dfb6row5_col7\" class=\"data row5 col7\" > </td>\n",
       "                        <td id=\"T_68d5f03c_e1af_11ed_bdbb_96000040dfb6row5_col8\" class=\"data row5 col8\" > </td>\n",
       "            </tr>\n",
       "            <tr>\n",
       "                        <th id=\"T_68d5f03c_e1af_11ed_bdbb_96000040dfb6level0_row6\" class=\"row_heading level0 row6\" >2016-01-07</th>\n",
       "                        <td id=\"T_68d5f03c_e1af_11ed_bdbb_96000040dfb6row6_col0\" class=\"data row6 col0\" >1.03%</td>\n",
       "                        <td id=\"T_68d5f03c_e1af_11ed_bdbb_96000040dfb6row6_col1\" class=\"data row6 col1\" >5.15%</td>\n",
       "                        <td id=\"T_68d5f03c_e1af_11ed_bdbb_96000040dfb6row6_col2\" class=\"data row6 col2\" >4.12%</td>\n",
       "                        <td id=\"T_68d5f03c_e1af_11ed_bdbb_96000040dfb6row6_col3\" class=\"data row6 col3\" > </td>\n",
       "                        <td id=\"T_68d5f03c_e1af_11ed_bdbb_96000040dfb6row6_col4\" class=\"data row6 col4\" > </td>\n",
       "                        <td id=\"T_68d5f03c_e1af_11ed_bdbb_96000040dfb6row6_col5\" class=\"data row6 col5\" > </td>\n",
       "                        <td id=\"T_68d5f03c_e1af_11ed_bdbb_96000040dfb6row6_col6\" class=\"data row6 col6\" > </td>\n",
       "                        <td id=\"T_68d5f03c_e1af_11ed_bdbb_96000040dfb6row6_col7\" class=\"data row6 col7\" > </td>\n",
       "                        <td id=\"T_68d5f03c_e1af_11ed_bdbb_96000040dfb6row6_col8\" class=\"data row6 col8\" > </td>\n",
       "            </tr>\n",
       "            <tr>\n",
       "                        <th id=\"T_68d5f03c_e1af_11ed_bdbb_96000040dfb6level0_row7\" class=\"row_heading level0 row7\" >2016-01-08</th>\n",
       "                        <td id=\"T_68d5f03c_e1af_11ed_bdbb_96000040dfb6row7_col0\" class=\"data row7 col0\" >1.03%</td>\n",
       "                        <td id=\"T_68d5f03c_e1af_11ed_bdbb_96000040dfb6row7_col1\" class=\"data row7 col1\" >10.31%</td>\n",
       "                        <td id=\"T_68d5f03c_e1af_11ed_bdbb_96000040dfb6row7_col2\" class=\"data row7 col2\" > </td>\n",
       "                        <td id=\"T_68d5f03c_e1af_11ed_bdbb_96000040dfb6row7_col3\" class=\"data row7 col3\" > </td>\n",
       "                        <td id=\"T_68d5f03c_e1af_11ed_bdbb_96000040dfb6row7_col4\" class=\"data row7 col4\" > </td>\n",
       "                        <td id=\"T_68d5f03c_e1af_11ed_bdbb_96000040dfb6row7_col5\" class=\"data row7 col5\" > </td>\n",
       "                        <td id=\"T_68d5f03c_e1af_11ed_bdbb_96000040dfb6row7_col6\" class=\"data row7 col6\" > </td>\n",
       "                        <td id=\"T_68d5f03c_e1af_11ed_bdbb_96000040dfb6row7_col7\" class=\"data row7 col7\" > </td>\n",
       "                        <td id=\"T_68d5f03c_e1af_11ed_bdbb_96000040dfb6row7_col8\" class=\"data row7 col8\" > </td>\n",
       "            </tr>\n",
       "            <tr>\n",
       "                        <th id=\"T_68d5f03c_e1af_11ed_bdbb_96000040dfb6level0_row8\" class=\"row_heading level0 row8\" >2016-01-09</th>\n",
       "                        <td id=\"T_68d5f03c_e1af_11ed_bdbb_96000040dfb6row8_col0\" class=\"data row8 col0\" >1.02%</td>\n",
       "                        <td id=\"T_68d5f03c_e1af_11ed_bdbb_96000040dfb6row8_col1\" class=\"data row8 col1\" > </td>\n",
       "                        <td id=\"T_68d5f03c_e1af_11ed_bdbb_96000040dfb6row8_col2\" class=\"data row8 col2\" > </td>\n",
       "                        <td id=\"T_68d5f03c_e1af_11ed_bdbb_96000040dfb6row8_col3\" class=\"data row8 col3\" > </td>\n",
       "                        <td id=\"T_68d5f03c_e1af_11ed_bdbb_96000040dfb6row8_col4\" class=\"data row8 col4\" > </td>\n",
       "                        <td id=\"T_68d5f03c_e1af_11ed_bdbb_96000040dfb6row8_col5\" class=\"data row8 col5\" > </td>\n",
       "                        <td id=\"T_68d5f03c_e1af_11ed_bdbb_96000040dfb6row8_col6\" class=\"data row8 col6\" > </td>\n",
       "                        <td id=\"T_68d5f03c_e1af_11ed_bdbb_96000040dfb6row8_col7\" class=\"data row8 col7\" > </td>\n",
       "                        <td id=\"T_68d5f03c_e1af_11ed_bdbb_96000040dfb6row8_col8\" class=\"data row8 col8\" > </td>\n",
       "            </tr>\n",
       "            <tr>\n",
       "                        <th id=\"T_68d5f03c_e1af_11ed_bdbb_96000040dfb6level0_row9\" class=\"row_heading level0 row9\" >2016-01-10</th>\n",
       "                        <td id=\"T_68d5f03c_e1af_11ed_bdbb_96000040dfb6row9_col0\" class=\"data row9 col0\" > </td>\n",
       "                        <td id=\"T_68d5f03c_e1af_11ed_bdbb_96000040dfb6row9_col1\" class=\"data row9 col1\" > </td>\n",
       "                        <td id=\"T_68d5f03c_e1af_11ed_bdbb_96000040dfb6row9_col2\" class=\"data row9 col2\" > </td>\n",
       "                        <td id=\"T_68d5f03c_e1af_11ed_bdbb_96000040dfb6row9_col3\" class=\"data row9 col3\" > </td>\n",
       "                        <td id=\"T_68d5f03c_e1af_11ed_bdbb_96000040dfb6row9_col4\" class=\"data row9 col4\" > </td>\n",
       "                        <td id=\"T_68d5f03c_e1af_11ed_bdbb_96000040dfb6row9_col5\" class=\"data row9 col5\" > </td>\n",
       "                        <td id=\"T_68d5f03c_e1af_11ed_bdbb_96000040dfb6row9_col6\" class=\"data row9 col6\" > </td>\n",
       "                        <td id=\"T_68d5f03c_e1af_11ed_bdbb_96000040dfb6row9_col7\" class=\"data row9 col7\" > </td>\n",
       "                        <td id=\"T_68d5f03c_e1af_11ed_bdbb_96000040dfb6row9_col8\" class=\"data row9 col8\" > </td>\n",
       "            </tr>\n",
       "    </tbody></table>"
      ],
      "text/plain": [
       "<pandas.io.formats.style.Styler at 0x7ff6182226d8>"
      ]
     },
     "execution_count": 16,
     "metadata": {},
     "output_type": "execute_result"
    }
   ],
   "source": [
    "retention('2016-01-01', '2016-01-10')"
   ]
  },
  {
   "cell_type": "markdown",
   "metadata": {},
   "source": [
    "Проведем небольшое исследование нашей мобильной игры. Посмотрим, как менялось количество игроков по годам, стали ли в нее заходить чаще"
   ]
  },
  {
   "cell_type": "markdown",
   "metadata": {},
   "source": [
    "Объединим наши таблицы и проанализируем данные в разрезе лет"
   ]
  },
  {
   "cell_type": "code",
   "execution_count": 17,
   "metadata": {},
   "outputs": [],
   "source": [
    "game_users = auth.merge(reg, on = 'uid', how = 'left')"
   ]
  },
  {
   "cell_type": "code",
   "execution_count": 18,
   "metadata": {},
   "outputs": [
    {
     "data": {
      "text/html": [
       "<div>\n",
       "<style scoped>\n",
       "    .dataframe tbody tr th:only-of-type {\n",
       "        vertical-align: middle;\n",
       "    }\n",
       "\n",
       "    .dataframe tbody tr th {\n",
       "        vertical-align: top;\n",
       "    }\n",
       "\n",
       "    .dataframe thead th {\n",
       "        text-align: right;\n",
       "    }\n",
       "</style>\n",
       "<table border=\"1\" class=\"dataframe\">\n",
       "  <thead>\n",
       "    <tr style=\"text-align: right;\">\n",
       "      <th></th>\n",
       "      <th>auth_ts</th>\n",
       "      <th>uid</th>\n",
       "      <th>reg_ts</th>\n",
       "    </tr>\n",
       "  </thead>\n",
       "  <tbody>\n",
       "    <tr>\n",
       "      <th>0</th>\n",
       "      <td>1998-11-18</td>\n",
       "      <td>1</td>\n",
       "      <td>1998-11-18</td>\n",
       "    </tr>\n",
       "    <tr>\n",
       "      <th>1</th>\n",
       "      <td>1999-07-22</td>\n",
       "      <td>2</td>\n",
       "      <td>1999-07-22</td>\n",
       "    </tr>\n",
       "    <tr>\n",
       "      <th>2</th>\n",
       "      <td>1999-07-25</td>\n",
       "      <td>2</td>\n",
       "      <td>1999-07-22</td>\n",
       "    </tr>\n",
       "    <tr>\n",
       "      <th>3</th>\n",
       "      <td>1999-07-31</td>\n",
       "      <td>2</td>\n",
       "      <td>1999-07-22</td>\n",
       "    </tr>\n",
       "    <tr>\n",
       "      <th>4</th>\n",
       "      <td>1999-08-05</td>\n",
       "      <td>2</td>\n",
       "      <td>1999-07-22</td>\n",
       "    </tr>\n",
       "  </tbody>\n",
       "</table>\n",
       "</div>"
      ],
      "text/plain": [
       "      auth_ts  uid      reg_ts\n",
       "0  1998-11-18    1  1998-11-18\n",
       "1  1999-07-22    2  1999-07-22\n",
       "2  1999-07-25    2  1999-07-22\n",
       "3  1999-07-31    2  1999-07-22\n",
       "4  1999-08-05    2  1999-07-22"
      ]
     },
     "execution_count": 18,
     "metadata": {},
     "output_type": "execute_result"
    }
   ],
   "source": [
    "game_users.head()"
   ]
  },
  {
   "cell_type": "code",
   "execution_count": 19,
   "metadata": {},
   "outputs": [],
   "source": [
    "game_users['reg_ts'] = pd.to_datetime(game_users['reg_ts']).dt.year\n",
    "game_users['auth_ts'] = pd.to_datetime(game_users['auth_ts']).dt.year"
   ]
  },
  {
   "cell_type": "code",
   "execution_count": 20,
   "metadata": {},
   "outputs": [],
   "source": [
    "auth_by_years = game_users\\\n",
    "    .groupby(['auth_ts'], as_index = False)\\\n",
    "    .agg({'uid' : 'count'})\\\n",
    "    .rename(columns={'auth_ts':'year', 'uid':'authorizations'})"
   ]
  },
  {
   "cell_type": "code",
   "execution_count": 21,
   "metadata": {},
   "outputs": [],
   "source": [
    "reg_by_years = game_users\\\n",
    "    .groupby(['reg_ts'], as_index = False)\\\n",
    "    .agg({'uid' : 'nunique'})\\\n",
    "    .rename(columns={'reg_ts':'year', 'uid':'registrations'})"
   ]
  },
  {
   "cell_type": "code",
   "execution_count": 22,
   "metadata": {},
   "outputs": [
    {
     "data": {
      "text/html": [
       "<div>\n",
       "<style scoped>\n",
       "    .dataframe tbody tr th:only-of-type {\n",
       "        vertical-align: middle;\n",
       "    }\n",
       "\n",
       "    .dataframe tbody tr th {\n",
       "        vertical-align: top;\n",
       "    }\n",
       "\n",
       "    .dataframe thead th {\n",
       "        text-align: right;\n",
       "    }\n",
       "</style>\n",
       "<table border=\"1\" class=\"dataframe\">\n",
       "  <thead>\n",
       "    <tr style=\"text-align: right;\">\n",
       "      <th></th>\n",
       "      <th>year</th>\n",
       "      <th>authorizations</th>\n",
       "      <th>registrations</th>\n",
       "    </tr>\n",
       "  </thead>\n",
       "  <tbody>\n",
       "    <tr>\n",
       "      <th>0</th>\n",
       "      <td>1998</td>\n",
       "      <td>1</td>\n",
       "      <td>1</td>\n",
       "    </tr>\n",
       "    <tr>\n",
       "      <th>1</th>\n",
       "      <td>1999</td>\n",
       "      <td>38</td>\n",
       "      <td>1</td>\n",
       "    </tr>\n",
       "    <tr>\n",
       "      <th>2</th>\n",
       "      <td>2000</td>\n",
       "      <td>94</td>\n",
       "      <td>4</td>\n",
       "    </tr>\n",
       "    <tr>\n",
       "      <th>3</th>\n",
       "      <td>2001</td>\n",
       "      <td>94</td>\n",
       "      <td>6</td>\n",
       "    </tr>\n",
       "    <tr>\n",
       "      <th>4</th>\n",
       "      <td>2002</td>\n",
       "      <td>125</td>\n",
       "      <td>10</td>\n",
       "    </tr>\n",
       "    <tr>\n",
       "      <th>5</th>\n",
       "      <td>2003</td>\n",
       "      <td>142</td>\n",
       "      <td>20</td>\n",
       "    </tr>\n",
       "    <tr>\n",
       "      <th>6</th>\n",
       "      <td>2004</td>\n",
       "      <td>182</td>\n",
       "      <td>35</td>\n",
       "    </tr>\n",
       "    <tr>\n",
       "      <th>7</th>\n",
       "      <td>2005</td>\n",
       "      <td>289</td>\n",
       "      <td>65</td>\n",
       "    </tr>\n",
       "    <tr>\n",
       "      <th>8</th>\n",
       "      <td>2006</td>\n",
       "      <td>731</td>\n",
       "      <td>119</td>\n",
       "    </tr>\n",
       "    <tr>\n",
       "      <th>9</th>\n",
       "      <td>2007</td>\n",
       "      <td>1502</td>\n",
       "      <td>216</td>\n",
       "    </tr>\n",
       "    <tr>\n",
       "      <th>10</th>\n",
       "      <td>2008</td>\n",
       "      <td>2901</td>\n",
       "      <td>394</td>\n",
       "    </tr>\n",
       "    <tr>\n",
       "      <th>11</th>\n",
       "      <td>2009</td>\n",
       "      <td>5703</td>\n",
       "      <td>718</td>\n",
       "    </tr>\n",
       "    <tr>\n",
       "      <th>12</th>\n",
       "      <td>2010</td>\n",
       "      <td>10592</td>\n",
       "      <td>1308</td>\n",
       "    </tr>\n",
       "    <tr>\n",
       "      <th>13</th>\n",
       "      <td>2011</td>\n",
       "      <td>20332</td>\n",
       "      <td>2385</td>\n",
       "    </tr>\n",
       "    <tr>\n",
       "      <th>14</th>\n",
       "      <td>2012</td>\n",
       "      <td>39736</td>\n",
       "      <td>4361</td>\n",
       "    </tr>\n",
       "    <tr>\n",
       "      <th>15</th>\n",
       "      <td>2013</td>\n",
       "      <td>72555</td>\n",
       "      <td>7932</td>\n",
       "    </tr>\n",
       "    <tr>\n",
       "      <th>16</th>\n",
       "      <td>2014</td>\n",
       "      <td>136683</td>\n",
       "      <td>14455</td>\n",
       "    </tr>\n",
       "    <tr>\n",
       "      <th>17</th>\n",
       "      <td>2015</td>\n",
       "      <td>254184</td>\n",
       "      <td>26344</td>\n",
       "    </tr>\n",
       "    <tr>\n",
       "      <th>18</th>\n",
       "      <td>2016</td>\n",
       "      <td>457862</td>\n",
       "      <td>48187</td>\n",
       "    </tr>\n",
       "    <tr>\n",
       "      <th>19</th>\n",
       "      <td>2017</td>\n",
       "      <td>844220</td>\n",
       "      <td>87645</td>\n",
       "    </tr>\n",
       "    <tr>\n",
       "      <th>20</th>\n",
       "      <td>2018</td>\n",
       "      <td>1535896</td>\n",
       "      <td>159729</td>\n",
       "    </tr>\n",
       "    <tr>\n",
       "      <th>21</th>\n",
       "      <td>2019</td>\n",
       "      <td>2799674</td>\n",
       "      <td>291102</td>\n",
       "    </tr>\n",
       "    <tr>\n",
       "      <th>22</th>\n",
       "      <td>2020</td>\n",
       "      <td>3417477</td>\n",
       "      <td>354963</td>\n",
       "    </tr>\n",
       "  </tbody>\n",
       "</table>\n",
       "</div>"
      ],
      "text/plain": [
       "    year  authorizations  registrations\n",
       "0   1998               1              1\n",
       "1   1999              38              1\n",
       "2   2000              94              4\n",
       "3   2001              94              6\n",
       "4   2002             125             10\n",
       "5   2003             142             20\n",
       "6   2004             182             35\n",
       "7   2005             289             65\n",
       "8   2006             731            119\n",
       "9   2007            1502            216\n",
       "10  2008            2901            394\n",
       "11  2009            5703            718\n",
       "12  2010           10592           1308\n",
       "13  2011           20332           2385\n",
       "14  2012           39736           4361\n",
       "15  2013           72555           7932\n",
       "16  2014          136683          14455\n",
       "17  2015          254184          26344\n",
       "18  2016          457862          48187\n",
       "19  2017          844220          87645\n",
       "20  2018         1535896         159729\n",
       "21  2019         2799674         291102\n",
       "22  2020         3417477         354963"
      ]
     },
     "execution_count": 22,
     "metadata": {},
     "output_type": "execute_result"
    }
   ],
   "source": [
    "mobile_game = auth_by_years.merge(reg_by_years, how = 'left')\n",
    "mobile_game"
   ]
  },
  {
   "cell_type": "code",
   "execution_count": 23,
   "metadata": {},
   "outputs": [
    {
     "data": {
      "text/plain": [
       "<matplotlib.axes._subplots.AxesSubplot at 0x7ff5ffde7128>"
      ]
     },
     "execution_count": 23,
     "metadata": {},
     "output_type": "execute_result"
    },
    {
     "data": {
      "image/png": "[encoded data removed]",
      "text/plain": [
       "<Figure size 1152x720 with 1 Axes>"
      ]
     },
     "metadata": {
      "needs_background": "light"
     },
     "output_type": "display_data"
    }
   ],
   "source": [
    "mobile_game.plot.barh(x=\"year\", y=[\"authorizations\", \"registrations\"], figsize=(16, 10))"
   ]
  },
  {
   "cell_type": "markdown",
   "metadata": {},
   "source": [
    "Видим, что наша игра с 1998 по 2012 год была известна лишь в узких кругах, а с 2012 ее популярность стала постоянно расти и число регистраций в 2020 году достигло 350 тысяч, а количество игровых сессий приблизилось к 3,5 миллионам."
   ]
  },
  {
   "cell_type": "code",
   "execution_count": 24,
   "metadata": {},
   "outputs": [],
   "source": [
    "avg_session = game_users\\\n",
    "    .groupby(['uid'], as_index = False)\\\n",
    "    .agg({'auth_ts':'count'})\\\n",
    "    .sort_values(by = 'auth_ts', ascending = False)"
   ]
  },
  {
   "cell_type": "markdown",
   "metadata": {},
   "source": [
    "Наши топ-5 пользователей, которые чаще всех заходят в игру"
   ]
  },
  {
   "cell_type": "code",
   "execution_count": 25,
   "metadata": {},
   "outputs": [
    {
     "data": {
      "text/html": [
       "<div>\n",
       "<style scoped>\n",
       "    .dataframe tbody tr th:only-of-type {\n",
       "        vertical-align: middle;\n",
       "    }\n",
       "\n",
       "    .dataframe tbody tr th {\n",
       "        vertical-align: top;\n",
       "    }\n",
       "\n",
       "    .dataframe thead th {\n",
       "        text-align: right;\n",
       "    }\n",
       "</style>\n",
       "<table border=\"1\" class=\"dataframe\">\n",
       "  <thead>\n",
       "    <tr style=\"text-align: right;\">\n",
       "      <th></th>\n",
       "      <th>uid</th>\n",
       "      <th>auth_ts</th>\n",
       "    </tr>\n",
       "  </thead>\n",
       "  <tbody>\n",
       "    <tr>\n",
       "      <th>1</th>\n",
       "      <td>2</td>\n",
       "      <td>1929</td>\n",
       "    </tr>\n",
       "    <tr>\n",
       "      <th>99</th>\n",
       "      <td>108</td>\n",
       "      <td>1397</td>\n",
       "    </tr>\n",
       "    <tr>\n",
       "      <th>148</th>\n",
       "      <td>158</td>\n",
       "      <td>1367</td>\n",
       "    </tr>\n",
       "    <tr>\n",
       "      <th>163</th>\n",
       "      <td>176</td>\n",
       "      <td>1331</td>\n",
       "    </tr>\n",
       "    <tr>\n",
       "      <th>175</th>\n",
       "      <td>191</td>\n",
       "      <td>1296</td>\n",
       "    </tr>\n",
       "  </tbody>\n",
       "</table>\n",
       "</div>"
      ],
      "text/plain": [
       "     uid  auth_ts\n",
       "1      2     1929\n",
       "99   108     1397\n",
       "148  158     1367\n",
       "163  176     1331\n",
       "175  191     1296"
      ]
     },
     "execution_count": 25,
     "metadata": {},
     "output_type": "execute_result"
    }
   ],
   "source": [
    "avg_session.head(5)"
   ]
  },
  {
   "cell_type": "code",
   "execution_count": 26,
   "metadata": {},
   "outputs": [],
   "source": [
    "user_2 = game_users\\\n",
    "    .query('uid == \"2\"')\\\n",
    "    .groupby(['uid', 'reg_ts'], as_index = False)\\\n",
    "    .agg({'auth_ts':'count'})\\"
   ]
  },
  {
   "cell_type": "markdown",
   "metadata": {},
   "source": [
    "А это наш победитель, который зарегистрировался в 1999 году и заходил в нее больше всех остальных"
   ]
  },
  {
   "cell_type": "code",
   "execution_count": 27,
   "metadata": {},
   "outputs": [
    {
     "data": {
      "text/html": [
       "<div>\n",
       "<style scoped>\n",
       "    .dataframe tbody tr th:only-of-type {\n",
       "        vertical-align: middle;\n",
       "    }\n",
       "\n",
       "    .dataframe tbody tr th {\n",
       "        vertical-align: top;\n",
       "    }\n",
       "\n",
       "    .dataframe thead th {\n",
       "        text-align: right;\n",
       "    }\n",
       "</style>\n",
       "<table border=\"1\" class=\"dataframe\">\n",
       "  <thead>\n",
       "    <tr style=\"text-align: right;\">\n",
       "      <th></th>\n",
       "      <th>uid</th>\n",
       "      <th>reg_ts</th>\n",
       "      <th>auth_ts</th>\n",
       "    </tr>\n",
       "  </thead>\n",
       "  <tbody>\n",
       "    <tr>\n",
       "      <th>0</th>\n",
       "      <td>2</td>\n",
       "      <td>1999</td>\n",
       "      <td>1929</td>\n",
       "    </tr>\n",
       "  </tbody>\n",
       "</table>\n",
       "</div>"
      ],
      "text/plain": [
       "   uid  reg_ts  auth_ts\n",
       "0    2    1999     1929"
      ]
     },
     "execution_count": 27,
     "metadata": {},
     "output_type": "execute_result"
    }
   ],
   "source": [
    "user_2"
   ]
  },
  {
   "cell_type": "code",
   "execution_count": null,
   "metadata": {},
   "outputs": [],
   "source": []
  }
 ],
 "metadata": {
  "kernelspec": {
   "display_name": "Python 3",
   "language": "python",
   "name": "python3"
  },
  "language_info": {
   "codemirror_mode": {
    "name": "ipython",
    "version": 3
   },
   "file_extension": ".py",
   "mimetype": "text/x-python",
   "name": "python",
   "nbconvert_exporter": "python",
   "pygments_lexer": "ipython3",
   "version": "3.7.3"
  }
 },
 "nbformat": 4,
 "nbformat_minor": 4
}
